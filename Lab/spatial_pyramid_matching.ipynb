{
 "cells": [
  {
   "cell_type": "markdown",
   "id": "c620250b",
   "metadata": {},
   "source": [
    "## Import libraries"
   ]
  },
  {
   "cell_type": "code",
   "execution_count": 11,
   "id": "59cd79df",
   "metadata": {},
   "outputs": [],
   "source": [
    "import numpy as np\n",
    "import cv2\n",
    "import os\n",
    "import math\n",
    "from sklearn.model_selection import train_test_split\n",
    "from sklearn.cluster import KMeans\n",
    "from sklearn.svm import LinearSVC\n",
    "from tqdm.notebook import tqdm"
   ]
  },
  {
   "cell_type": "markdown",
   "id": "6bfd8034",
   "metadata": {},
   "source": [
    "## Load Dataset"
   ]
  },
  {
   "cell_type": "code",
   "execution_count": 12,
   "id": "9e330589",
   "metadata": {},
   "outputs": [
    {
     "name": "stdout",
     "output_type": "stream",
     "text": [
      "Number of categories:  102\n"
     ]
    }
   ],
   "source": [
    "cat_path = os.getcwd() + '/101_ObjectCategories'\n",
    "cat_names = {}\n",
    "count = 0\n",
    "for name in os.listdir(cat_path):\n",
    "    cat_names[count] = cat_path +  '/' + str(name)\n",
    "    count += 1\n",
    "print(\"Number of categories: \", len(cat_names))\n",
    "\n",
    "# Initialise dataset\n",
    "data, labels = [], []\n",
    "for cat_id, cat_name in cat_names.items():\n",
    "    cat_img_paths = os.listdir(cat_name)[:80]\n",
    "    labels += (len(cat_img_paths)*[cat_id])\n",
    "    \n",
    "    for one_path in cat_img_paths:\n",
    "        data.append(cv2.imread(cat_name + '/' + one_path, 0))"
   ]
  },
  {
   "cell_type": "markdown",
   "id": "b9f3f1aa",
   "metadata": {},
   "source": [
    "## Split train, test"
   ]
  },
  {
   "cell_type": "code",
   "execution_count": 13,
   "id": "cfcd96c0",
   "metadata": {
    "scrolled": true
   },
   "outputs": [
    {
     "name": "stdout",
     "output_type": "stream",
     "text": [
      "X shape: 2270, Y shape: 3785\n"
     ]
    }
   ],
   "source": [
    "x_train, x_test, y_train, y_test = train_test_split(data, labels, \n",
    "    test_size = 5/8, random_state = 42)\n",
    "print(\"X shape: \" + str(len(x_train)) + \", Y shape: \" + str(len(x_test)))"
   ]
  },
  {
   "cell_type": "markdown",
   "id": "02d1adc8",
   "metadata": {},
   "source": [
    "##  getFeatures"
   ]
  },
  {
   "cell_type": "code",
   "execution_count": 23,
   "id": "2f94d908",
   "metadata": {},
   "outputs": [],
   "source": [
    "def getFeatures(img, kmeans, k, levels):\n",
    "    width = img.shape[1]\n",
    "    height = img.shape[0]\n",
    "    hist_array = []\n",
    "    \n",
    "    dsift_step = 2\n",
    "    \n",
    "    for lvl in range(levels+1):\n",
    "        width_step = math.floor(width/(2**lvl))\n",
    "        height_step = math.floor(height/(2**lvl))\n",
    "        row, col = 0, 0\n",
    "        for i in range(1, 2**lvl+1):\n",
    "            row = 0\n",
    "            for j in range(1, 2**lvl+1):\n",
    "                keypoints = []\n",
    "                for y in range(0, height, dsift_step):\n",
    "                    for x in range(0, width, dsift_step):\n",
    "                        sift = cv2.xfeatures2d.SIFT_create()\n",
    "                        keypoints.append(cv2.KeyPoint(x, y, dsift_step))\n",
    "                descriptors = sift.compute(img[col:col+height_step,\n",
    "                            row:row+width_step], keypoints)[1]\n",
    "                \n",
    "                predict = kmeans.predict(descriptors)\n",
    "                histogram = np.bincount(predict, minlength = k).reshape(\n",
    "                    1, -1).ravel()\n",
    "                hist_array.append(2**(lvl-levels)*histogram)\n",
    "                row = row + width_step\n",
    "            col = col + height_step\n",
    "    hist = np.array(hist_array).ravel()\n",
    "    \n",
    "    deviation = np.std(hist)\n",
    "    hist = hist-np.mean(hist) - deviation"
   ]
  },
  {
   "cell_type": "markdown",
   "id": "da61060a",
   "metadata": {},
   "source": [
    "## getHistogram"
   ]
  },
  {
   "cell_type": "code",
   "execution_count": 15,
   "id": "1ed35e10",
   "metadata": {},
   "outputs": [],
   "source": [
    "def getHistogram(data, kmeans, k, levels):\n",
    "    hist_array = []\n",
    "    for i in range(len(data)):\n",
    "        hist_array.append(getFeatures(data[i], kmeans, k, levels))\n",
    "    return np.array(hist_array)"
   ]
  },
  {
   "cell_type": "markdown",
   "id": "1777bea2",
   "metadata": {},
   "source": [
    "## getSIFT"
   ]
  },
  {
   "cell_type": "code",
   "execution_count": 25,
   "id": "b83d8242",
   "metadata": {},
   "outputs": [],
   "source": [
    "def getSIFT(data):\n",
    "    result = []\n",
    "    step = 15\n",
    "    for i in range(len(data)):\n",
    "        sift = cv2.xfeatures2d.SIFT_create()\n",
    "        keypoints = []\n",
    "        for x in range(0, data[i].shape[0], step):\n",
    "            for y in range(0, data[i].shape[1], step):\n",
    "                keypoints.append(cv2.KeyPoint(x, y, step))\n",
    "        result.append(sift.compute(data[i],  keypoints)[1])\n",
    "    return result\n",
    "\n",
    "x_train_sift = getSIFT(x_train)"
   ]
  },
  {
   "cell_type": "code",
   "execution_count": 17,
   "id": "7d7b8405",
   "metadata": {},
   "outputs": [
    {
     "data": {
      "application/vnd.jupyter.widget-view+json": {
       "model_id": "218f73d19ca940b39ed7d16a14fe782d",
       "version_major": 2,
       "version_minor": 0
      },
      "text/plain": [
       "  0%|          | 0/2270 [00:00<?, ?it/s]"
      ]
     },
     "metadata": {},
     "output_type": "display_data"
    }
   ],
   "source": [
    "train_descriptors = []\n",
    "for i in tqdm(range(len(x_train_sift))):\n",
    "    for j in range(x_train_sift[i].shape[0]):\n",
    "        train_descriptors.append(x_train_sift[i][j,:])\n",
    "train_descriptors = np.array(train_descriptors)                                    "
   ]
  },
  {
   "cell_type": "markdown",
   "id": "81deb8cf",
   "metadata": {},
   "source": [
    "## KMeans and Training"
   ]
  },
  {
   "cell_type": "code",
   "execution_count": 18,
   "id": "19ffabe7",
   "metadata": {},
   "outputs": [],
   "source": [
    "def kmeanFeatures(train_descriptors, k):\n",
    "    return KMeans(n_clusters = k, random_state = 0).fit(train_descriptors)"
   ]
  },
  {
   "cell_type": "code",
   "execution_count": 33,
   "id": "d7af9006",
   "metadata": {},
   "outputs": [],
   "source": [
    "def trainSPM(kmean, k, lvl):\n",
    "    train_hist = getHistogram(x_train, kmean, k, lvl)\n",
    "    test_hist = getHistogram(x_test, kmean, k, lvl)\n",
    "    clf = LinearSVC(random_state = 0, C = 5E-4)\n",
    "    clf.fit(train_hist, y_train)\n",
    "    predict = clf.predict(test_hist)\n",
    "    accuracy = np.mean(predict == y_test)*100\n",
    "    print(\"Level: \" + str(lvl) + \", Accuracy: \" + str(accuracy))"
   ]
  },
  {
   "cell_type": "markdown",
   "id": "64097b48",
   "metadata": {},
   "source": [
    "## Weak: K = 16"
   ]
  },
  {
   "cell_type": "code",
   "execution_count": 36,
   "id": "c6429264",
   "metadata": {
    "scrolled": true
   },
   "outputs": [
    {
     "name": "stdout",
     "output_type": "stream",
     "text": [
      "Level: 0, Accuracy: 5.161644771622\n",
      "Level: 1, Accuracy: 21.19274024223\n",
      "Level: 2, Accuracy: 35.84759274932\n",
      "Level: 3, Accuracy: 38.72337728189\n"
     ]
    }
   ],
   "source": [
    "kmean_16 = kmeanFeatures(train_descriptors, 16)\n",
    "for one_level in tqdm(range(4)):\n",
    "    trainSPM(kmean_16, 16, one_level)"
   ]
  },
  {
   "cell_type": "markdown",
   "id": "f405691c",
   "metadata": {},
   "source": [
    "## Strong: K = 200"
   ]
  },
  {
   "cell_type": "code",
   "execution_count": 37,
   "id": "9aa671c0",
   "metadata": {
    "scrolled": true
   },
   "outputs": [
    {
     "name": "stdout",
     "output_type": "stream",
     "text": [
      "Level: 0, Accuracy: 23.65532729112\n",
      "Level: 1, Accuracy: 38.12022318293\n",
      "Level: 2, Accuracy: 45.02830338195\n",
      "Level: 3, Accuracy: 47.91739375926\n"
     ]
    }
   ],
   "source": [
    "kmean_200 = kmeanFeatures(train_descriptors, 200)\n",
    "for one_level in tqdm(range(4)):\n",
    "    trainSPM(kmean_200, 200, one_level)"
   ]
  },
  {
   "cell_type": "markdown",
   "id": "8e4dec83",
   "metadata": {},
   "source": [
    "## Analysis\n",
    "Level 0 signifies Bag-of-Words (BoW) method, and we can observe that using Spatial Pyramid Matching (SPM) will yield much higher accuracy."
   ]
  },
  {
   "cell_type": "code",
   "execution_count": null,
   "id": "e5e6090d",
   "metadata": {},
   "outputs": [],
   "source": []
  }
 ],
 "metadata": {
  "kernelspec": {
   "display_name": "Python 3 (ipykernel)",
   "language": "python",
   "name": "python3"
  },
  "language_info": {
   "codemirror_mode": {
    "name": "ipython",
    "version": 3
   },
   "file_extension": ".py",
   "mimetype": "text/x-python",
   "name": "python",
   "nbconvert_exporter": "python",
   "pygments_lexer": "ipython3",
   "version": "3.9.6"
  }
 },
 "nbformat": 4,
 "nbformat_minor": 5
}
